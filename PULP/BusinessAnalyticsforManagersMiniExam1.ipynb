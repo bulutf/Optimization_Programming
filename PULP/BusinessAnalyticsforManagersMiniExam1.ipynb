{
 "cells": [
  {
   "cell_type": "markdown",
   "metadata": {},
   "source": [
    "## VIA508 Mini Exam 1\n",
    "## Eylül Bulut Fıçıcı"
   ]
  },
  {
   "cell_type": "markdown",
   "metadata": {},
   "source": [
    "1a) Clearly define decision variables, objective function and constraints."
   ]
  },
  {
   "cell_type": "code",
   "execution_count": 1,
   "metadata": {},
   "outputs": [],
   "source": [
    "from pulp import *\n",
    "\n",
    "prob = LpProblem(\"Sunco_Model\",LpMaximize)\n",
    "\n",
    "x1 = LpVariable(\"AviationFuelSoldAfterDistillation\", 0)\n",
    "x2 = LpVariable(\"HeatingOilSoldAfterDistillation\", 0)\n",
    "x3 = LpVariable(\"AviationFuelSoldAfterCatalyticCracker\", 0)\n",
    "x4 = LpVariable(\"HeatingOilSoldAfterCatalyticCracker\", 0)\n",
    "x5 = LpVariable(\"PurchasedOil\", 0)\n",
    "\n",
    "# objective \n",
    "prob += 60*x1+40*x2+130*x3+90*x4-40*x5\n",
    "\n",
    "# constraints \n",
    "prob += x1 + x3 == 0.5*x5, \"Barrels_Aviation_Fuel\"\n",
    "prob += x2 + x4 == 0.5*x5, \"Barrels_Heating_Oil\"\n",
    "prob += x5 <= 20000, \"Barrels_Oil\"\n",
    "prob += 0.001*x3 + 0.00075*x4 <= 8, \"Hours_Cracker_Time\""
   ]
  },
  {
   "cell_type": "markdown",
   "metadata": {},
   "source": [
    "1b) Solve the problem using PULP and report the code and output."
   ]
  },
  {
   "cell_type": "code",
   "execution_count": 2,
   "metadata": {},
   "outputs": [
    {
     "name": "stdout",
     "output_type": "stream",
     "text": [
      "Status: Optimal\n",
      "AviationFuelSoldAfterCatalyticCracker = 8000.0\n",
      "AviationFuelSoldAfterDistillation = 2000.0\n",
      "HeatingOilSoldAfterCatalyticCracker = 0.0\n",
      "HeatingOilSoldAfterDistillation = 10000.0\n",
      "PurchasedOil = 20000.0\n",
      "Total Profit of the Process =  760000.0\n"
     ]
    }
   ],
   "source": [
    "prob.solve()\n",
    "print(\"Status:\", LpStatus[prob.status])\n",
    "\n",
    "for v in prob.variables():\n",
    "    print(v.name, \"=\", v.varValue)\n",
    "\n",
    "print(\"Total Profit of the Process = \", value(prob.objective))"
   ]
  },
  {
   "cell_type": "markdown",
   "metadata": {},
   "source": [
    "1c) Is it profitable to buy an extra barrel of oil? "
   ]
  },
  {
   "cell_type": "code",
   "execution_count": 3,
   "metadata": {},
   "outputs": [
    {
     "name": "stdout",
     "output_type": "stream",
     "text": [
      "\n",
      "Sensitivity Analysis\n",
      "         Constraint_Name  Slack  Shadow_Price\n",
      "0  Barrels_Aviation_Fuel   -0.0          60.0\n",
      "1    Barrels_Heating_Oil   -0.0          40.0\n",
      "2            Barrels_Oil   -0.0          10.0\n",
      "3     Hours_Cracker_Time   -0.0       70000.0\n",
      "\n",
      "\n",
      "                           Variable_Name    Value  Reduced_Cost\n",
      "0  AviationFuelSoldAfterCatalyticCracker   8000.0           0.0\n",
      "1      AviationFuelSoldAfterDistillation   2000.0           0.0\n",
      "2    HeatingOilSoldAfterCatalyticCracker      0.0          -2.5\n",
      "3        HeatingOilSoldAfterDistillation  10000.0           0.0\n",
      "4                           PurchasedOil  20000.0           0.0\n"
     ]
    }
   ],
   "source": [
    "import pandas as pd\n",
    "\n",
    "print(\"\\nSensitivity Analysis\")\n",
    "Cons_Sensitivity_Report=[{'Constraint_Name':name,'Slack':c.slack,\"Shadow_Price\":c.pi}\n",
    "                         for name, c in prob.constraints.items()]\n",
    "print(pd.DataFrame(Cons_Sensitivity_Report))\n",
    "print(\"\\n\")\n",
    "Variable_Sensitivity_Report = [{'Variable_Name': v.name, 'Value':v.varValue,'Reduced_Cost': v.dj}\n",
    "                               for v in prob.variables()]\n",
    "\n",
    "print(pd.DataFrame(Variable_Sensitivity_Report)[['Variable_Name','Value','Reduced_Cost']])"
   ]
  },
  {
   "cell_type": "markdown",
   "metadata": {},
   "source": [
    "1d) How would Sunco’s profit change if they were able to purchase an extra barrel\n",
    "of oil?\n",
    "\n",
    "    Shadow price of the Barrels_Oil constraint is $10 so its profitable, it will increase the total profit by $10.\n",
    "    \n",
    "1e) How would Sunco’s profit change if they were able to have an extra hour of\n",
    "cracker time?\n",
    "    \n",
    "    Shadow price of the Hours_Cracker_Time constraint is $70000 so its profitable, it will increase the total profit by $70000."
   ]
  },
  {
   "cell_type": "markdown",
   "metadata": {},
   "source": [
    "2a) Clearly define decision variables, objective function and constraints."
   ]
  },
  {
   "cell_type": "code",
   "execution_count": 4,
   "metadata": {},
   "outputs": [],
   "source": [
    "from pulp import *\n",
    "\n",
    "prob = LpProblem(\"PM_Computers_Model\",LpMinimize)\n",
    "\n",
    "# variables\n",
    "\n",
    "x1 = LpVariable(\"RegularProduction1\", 0)\n",
    "x2 = LpVariable(\"RegularProduction2\", 0)\n",
    "x3 = LpVariable(\"RegularProduction3\", 0)\n",
    "x4 = LpVariable(\"RegularProduction4\", 0)\n",
    "x5 = LpVariable(\"RegularProduction5\", 0)\n",
    "x6 = LpVariable(\"RegularProduction6\", 0)\n",
    "y1 = LpVariable(\"OvertimeProduction1\", 0)\n",
    "y2 = LpVariable(\"OvertimeProduction2\", 0)\n",
    "y3 = LpVariable(\"OvertimeProduction3\", 0)\n",
    "y4 = LpVariable(\"OvertimeProduction4\", 0)\n",
    "y5 = LpVariable(\"OvertimeProduction5\", 0)\n",
    "y6 = LpVariable(\"OvertimeProduction6\", 0)\n",
    "z1 = LpVariable(\"InventoryComputers1\", 0)\n",
    "z2 = LpVariable(\"InventoryComputers2\", 0)\n",
    "z3 = LpVariable(\"InventoryComputers3\", 0)\n",
    "z4 = LpVariable(\"InventoryComputers4\", 0)\n",
    "z5 = LpVariable(\"InventoryComputers5\", 0)\n",
    "\n",
    "\n",
    "\n",
    "prob += 190*(x1+x2+x3+x4+x5+x6)+260*(y1+y2+y3+y4+y5+y6)+10*(z1+z2+z3+z4+z5)\n",
    "\n",
    "\n",
    "\n",
    "#constraints\n",
    "\n",
    "prob += x1 + y1 - z1 == 105, \"Week_1\" \n",
    "prob += x2 + y2 + z1 - z2 == 170, \"Week_2\"\n",
    "prob += x3 + y3 + z2 - z3 == 230, \"Week_3\" \n",
    "prob += x4 + y4 + z3 - z4 == 180, \"Week_4\" \n",
    "prob += x5 + y5 + z4 - z5 == 150, \"Week_5\" \n",
    "prob += x6 + y6 + z5 == 250, \"Week_6\" \n",
    "prob += x1 <= 160, \"Week_1_Regular_Capacity\"\n",
    "prob += x2 <= 160, \"Week_2_Regular_Capacity\"\n",
    "prob += x3 <= 160, \"Week_3_Regular_Capacity\"\n",
    "prob += x4 <= 160, \"Week_4_Regular_Capacity\"\n",
    "prob += x5 <= 160, \"Week_5_Regular_Capacity\"\n",
    "prob += x6 <= 160, \"Week_6_Regular_Capacity\"\n",
    "prob += y1 <= 50, \"Week_1_Overtime_Capacity\"\n",
    "prob += y2 <= 50, \"Week_2_Overtime_Capacity\"\n",
    "prob += y3 <= 50, \"Week_3_Overtime_Capacity\"\n",
    "prob += y4 <= 50, \"Week_4_Overtime_Capacity\"\n",
    "prob += y5 <= 50, \"Week_5_Overtime_Capacity\"\n",
    "prob += y6 <= 50, \"Week_6_Overtime_Capacity\""
   ]
  },
  {
   "cell_type": "markdown",
   "metadata": {},
   "source": [
    "2b) Solve the problem using PULP and report your code and output."
   ]
  },
  {
   "cell_type": "code",
   "execution_count": 5,
   "metadata": {},
   "outputs": [
    {
     "name": "stdout",
     "output_type": "stream",
     "text": [
      "Status: Optimal\n",
      "InventoryComputers1 = 55.0\n",
      "InventoryComputers2 = 45.0\n",
      "InventoryComputers3 = 0.0\n",
      "InventoryComputers4 = 0.0\n",
      "InventoryComputers5 = 40.0\n",
      "OvertimeProduction1 = 0.0\n",
      "OvertimeProduction2 = 0.0\n",
      "OvertimeProduction3 = 25.0\n",
      "OvertimeProduction4 = 20.0\n",
      "OvertimeProduction5 = 30.0\n",
      "OvertimeProduction6 = 50.0\n",
      "RegularProduction1 = 160.0\n",
      "RegularProduction2 = 160.0\n",
      "RegularProduction3 = 160.0\n",
      "RegularProduction4 = 160.0\n",
      "RegularProduction5 = 160.0\n",
      "RegularProduction6 = 160.0\n",
      "\n",
      "Total Cost of the Process =  216300.0\n"
     ]
    }
   ],
   "source": [
    "prob.solve()\n",
    "\n",
    "print(\"Status:\", LpStatus[prob.status])\n",
    "for v in prob.variables():\n",
    "    print(v.name, \"=\", v.varValue)\n",
    "\n",
    "print(\"\\nTotal Cost of the Process = \", value(prob.objective))"
   ]
  },
  {
   "cell_type": "markdown",
   "metadata": {},
   "source": [
    "2c) If you had a chance to expand the regular production capacity, which week\n",
    "would you choose to decrease the cost most?\n",
    "\n",
    "    Week_6_Regular_Capacity has the lowest shadow price with -80. So it should be chosen to decrease the cost most."
   ]
  },
  {
   "cell_type": "code",
   "execution_count": 6,
   "metadata": {},
   "outputs": [
    {
     "name": "stdout",
     "output_type": "stream",
     "text": [
      "\n",
      "Sensitivity Analysis\n",
      "             Constraint_Name  Slack  Shadow_Price\n",
      "0                     Week_1   -0.0         240.0\n",
      "1                     Week_2   -0.0         250.0\n",
      "2                     Week_3   -0.0         260.0\n",
      "3                     Week_4   -0.0         260.0\n",
      "4                     Week_5   -0.0         260.0\n",
      "5                     Week_6   -0.0         270.0\n",
      "6    Week_1_Regular_Capacity   -0.0         -50.0\n",
      "7    Week_2_Regular_Capacity   -0.0         -60.0\n",
      "8    Week_3_Regular_Capacity   -0.0         -70.0\n",
      "9    Week_4_Regular_Capacity   -0.0         -70.0\n",
      "10   Week_5_Regular_Capacity   -0.0         -70.0\n",
      "11   Week_6_Regular_Capacity   -0.0         -80.0\n",
      "12  Week_1_Overtime_Capacity   50.0           0.0\n",
      "13  Week_2_Overtime_Capacity   50.0           0.0\n",
      "14  Week_3_Overtime_Capacity   25.0           0.0\n",
      "15  Week_4_Overtime_Capacity   30.0           0.0\n",
      "16  Week_5_Overtime_Capacity   20.0           0.0\n",
      "17  Week_6_Overtime_Capacity   -0.0         -10.0\n",
      "\n",
      "\n",
      "          Variable_Name  Value  Reduced_Cost\n",
      "0   InventoryComputers1   55.0           0.0\n",
      "1   InventoryComputers2   45.0           0.0\n",
      "2   InventoryComputers3    0.0          10.0\n",
      "3   InventoryComputers4    0.0          10.0\n",
      "4   InventoryComputers5   40.0           0.0\n",
      "5   OvertimeProduction1    0.0          20.0\n",
      "6   OvertimeProduction2    0.0          10.0\n",
      "7   OvertimeProduction3   25.0           0.0\n",
      "8   OvertimeProduction4   20.0           0.0\n",
      "9   OvertimeProduction5   30.0           0.0\n",
      "10  OvertimeProduction6   50.0           0.0\n",
      "11   RegularProduction1  160.0           0.0\n",
      "12   RegularProduction2  160.0           0.0\n",
      "13   RegularProduction3  160.0           0.0\n",
      "14   RegularProduction4  160.0           0.0\n",
      "15   RegularProduction5  160.0           0.0\n",
      "16   RegularProduction6  160.0           0.0\n"
     ]
    }
   ],
   "source": [
    "import pandas as pd\n",
    "\n",
    "print(\"\\nSensitivity Analysis\")\n",
    "Cons_Sensitivity_Report=[{'Constraint_Name':name,'Slack':c.slack,\"Shadow_Price\":c.pi}\n",
    "                         for name, c in prob.constraints.items()]\n",
    "print(pd.DataFrame(Cons_Sensitivity_Report))\n",
    "print(\"\\n\")\n",
    "Variable_Sensitivity_Report = [{'Variable_Name': v.name, 'Value':v.varValue,'Reduced_Cost': v.dj}\n",
    "                               for v in prob.variables()]\n",
    "\n",
    "print(pd.DataFrame(Variable_Sensitivity_Report)[['Variable_Name','Value','Reduced_Cost']])"
   ]
  },
  {
   "cell_type": "markdown",
   "metadata": {},
   "source": [
    "3a) Formulate a linear programming model for this problem."
   ]
  },
  {
   "cell_type": "code",
   "execution_count": 7,
   "metadata": {},
   "outputs": [
    {
     "name": "stdout",
     "output_type": "stream",
     "text": [
      "Status: Optimal\n",
      "NumberofBracelets = 3.0\n",
      "NumberofNecklaces = 4.0\n",
      "\n",
      "Total Profit of the Process =  2400.0\n"
     ]
    }
   ],
   "source": [
    "# Formulation\n",
    "\n",
    "from pulp import *\n",
    "\n",
    "prob = LpProblem(\"Jewelry_Model\",LpMaximize)\n",
    "\n",
    "x1 = LpVariable(\"NumberofNecklaces\", 0)\n",
    "x2 = LpVariable(\"NumberofBracelets\", 0)\n",
    "\n",
    "# objective \n",
    "prob += 300*x1+400*x2\n",
    "\n",
    "# constraints \n",
    "prob += 3*x1 + 2*x2 <= 18, \"RequiredforNecklace\"\n",
    "prob += 2*x1 + 4*x2 <= 20, \"RequiredforBracelet\"\n",
    "\n",
    "# Solution\n",
    "\n",
    "prob.solve()\n",
    "\n",
    "print(\"Status:\", LpStatus[prob.status])\n",
    "for v in prob.variables():\n",
    "    print(v.name, \"=\", v.varValue)\n",
    "\n",
    "print(\"\\nTotal Profit of the Process = \", value(prob.objective))"
   ]
  },
  {
   "cell_type": "code",
   "execution_count": 7,
   "metadata": {},
   "outputs": [
    {
     "data": {
      "text/plain": [
       "<matplotlib.legend.Legend at 0x22451aca850>"
      ]
     },
     "execution_count": 7,
     "metadata": {},
     "output_type": "execute_result"
    },
    {
     "data": {
      "image/png": "[encoded data removed]",
      "text/plain": [
       "<Figure size 432x288 with 1 Axes>"
      ]
     },
     "metadata": {
      "needs_background": "light"
     },
     "output_type": "display_data"
    }
   ],
   "source": [
    "import numpy as np\n",
    "import matplotlib.pyplot as plt\n",
    "%matplotlib inline\n",
    "\n",
    "# Construct lines\n",
    "x1 = np.linspace(0, 100, 100)\n",
    "x2 = (18-3*x1)/2\n",
    "x3 = (20-2*x1)/4\n",
    "x4 = 300*x1/400\n",
    "x5 = (x1*0)+4\n",
    "\n",
    "# Make plot\n",
    "plt.plot(x1, x2, label=r'3x1 + 2x2 <= 18')\n",
    "plt.plot(x1, x3, label=r'2x1 + 4x2 <= 20')\n",
    "plt.plot(x1, x5, label=r'Objective')\n",
    "plt.plot(x1, x4, label=r'Objective')\n",
    "\n",
    "plt.xlim((0, 10))\n",
    "plt.ylim((0, 10))\n",
    "plt.xlabel(r'$x1$')\n",
    "plt.ylabel(r'$x2$')\n",
    "\n",
    "# Fill feasible region\n",
    "y3 = np.minimum(x2,x5)\n",
    "y4 = np.minimum(x3,y3)\n",
    "\n",
    "plt.fill_between(x1, y4, color='grey', alpha=0.5)\n",
    "#plt.plot(obj)\n",
    "\n",
    "plt.legend()"
   ]
  },
  {
   "cell_type": "markdown",
   "metadata": {},
   "source": [
    "3b) Solve this model by using graphical analysis. Determine the range of profit per\n",
    "necklace that leaves the current solution optimal using graphical analysis.\n",
    "\n",
    "        As can be seen on the graph above, blue and orange lines represents the constraints. The grey area is the feasible area. In these kind of problems, edges of the area shows us the possible solutions. Red line represents the objective. Intersection of these 3 lines are the optimal solution, with x1=4 and x2=3."
   ]
  },
  {
   "cell_type": "markdown",
   "metadata": {},
   "source": [
    "    To determine the range, we might look at the points (2,4) and (6,0). When the profit is greater than 2400, solution would not be optimal. 2*(profit)+4*400. So when the profit per necklace is greater than 400 or equal to 0, jewelry store will choose to make different number of necklaces."
   ]
  }
 ],
 "metadata": {
  "kernelspec": {
   "display_name": "Python 3",
   "language": "python",
   "name": "python3"
  },
  "language_info": {
   "codemirror_mode": {
    "name": "ipython",
    "version": 3
   },
   "file_extension": ".py",
   "mimetype": "text/x-python",
   "name": "python",
   "nbconvert_exporter": "python",
   "pygments_lexer": "ipython3",
   "version": "3.8.5"
  }
 },
 "nbformat": 4,
 "nbformat_minor": 4
}
