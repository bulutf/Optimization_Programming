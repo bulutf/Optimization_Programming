{
 "cells": [
  {
   "cell_type": "markdown",
   "metadata": {},
   "source": [
    "## Business Analytics Mini Exam 2\n",
    "## Eylül Bulut Fıçıcı - ficici20"
   ]
  },
  {
   "cell_type": "code",
   "execution_count": 1,
   "metadata": {},
   "outputs": [],
   "source": [
    "# 1a) Clearly define decision variables, objective function and constraints"
   ]
  },
  {
   "cell_type": "code",
   "execution_count": 2,
   "metadata": {},
   "outputs": [],
   "source": [
    "from pulp import *\n",
    "\n",
    "# Create the 'prob' variable to contain the problem data\n",
    "prob = LpProblem(\"Pre_Model\",LpMinimize)\n",
    "\n",
    "#Variables\n",
    "x1 = LpVariable(\"Calculus\", 0, cat = LpInteger)\n",
    "x2 = LpVariable(\"OR\", 0, cat = LpInteger)\n",
    "x3 = LpVariable(\"DataStructures\", 0, cat = LpInteger)\n",
    "x4 = LpVariable(\"BusinessStats\", 0, cat = LpInteger)\n",
    "x5 = LpVariable(\"CompSimulation\", 0, cat = LpInteger)\n",
    "x6 = LpVariable(\"IntroToCompProgramming\", 0, cat = LpInteger)\n",
    "x7 = LpVariable(\"Forecasting\", 0, cat = LpInteger)\n",
    "\n",
    "#objective function\n",
    "prob += x1+x2+x3+x4+x5+x6+x7\n",
    "\n",
    "# The constraints \n",
    "prob += x1 + x2 + x3 + x4 + x7 >= 2, \"MinMathCourses\"\n",
    "prob += x2 + x4 + x5 + x7 >= 2, \"MinOperationsResearchCourses\"\n",
    "prob += x3 + x5 + x6 >= 2, \"MinComputerCourses\"\n",
    "prob += x1 - x4 >= 0, \"Prerequisite_Calculus_for_BusinessStats\"\n",
    "prob += x6 - x5 >= 0, \"Prerequisite_Programming_for_Simulation\"\n",
    "prob += x6 - x3 >= 0, \"Prerequisite_Programming_for_DataStructures\"\n",
    "prob += x4 - x7 >= 0, \"Prerequisite_BusinessStats_for_Forecasting\"\n",
    "prob += x1 >= 0\n",
    "prob += x2 >= 0\n",
    "prob += x3 >= 0\n",
    "prob += x4 >= 0\n",
    "prob += x5 >= 0\n",
    "prob += x6 >= 0\n",
    "prob += x7 >= 0"
   ]
  },
  {
   "cell_type": "code",
   "execution_count": 3,
   "metadata": {},
   "outputs": [],
   "source": [
    "# 1b) Solve the problem using PULP and report the code and output."
   ]
  },
  {
   "cell_type": "code",
   "execution_count": 4,
   "metadata": {},
   "outputs": [],
   "source": [
    "prob.writeLP(\"Process.lp\")\n",
    "\n",
    "\n",
    "# The problem is solved using PuLP's choice of Solver\n",
    "prob.solve()\n",
    "\n",
    "# The status of the solution is printed to the screen\n",
    "print(\"Status:\", LpStatus[prob.status])\n",
    "\n",
    "# Each of the variables is printed with it's resolved optimum value\n",
    "for v in prob.variables():\n",
    "    print(v.name, \"=\", v.varValue)\n",
    "# The optimised objective function value is printed to the screen\n",
    "print(\"Total Cost of the Process = \", value(prob.objective))"
   ]
  },
  {
   "cell_type": "code",
   "execution_count": 5,
   "metadata": {},
   "outputs": [],
   "source": [
    "# 2a) Clearly define decision variables, objective function and constraints"
   ]
  },
  {
   "cell_type": "code",
   "execution_count": 6,
   "metadata": {},
   "outputs": [],
   "source": [
    "from pulp import *\n",
    "\n",
    "# Create the 'prob' variable to contain the problem data\n",
    "prob = LpProblem(\"Glueco_Model\",LpMinimize)\n",
    "\n",
    "#Variables\n",
    "y1 = LpVariable(\"ProductionLine1\", 0, cat = LpInteger)\n",
    "y2 = LpVariable(\"ProductionLine2\", 0, cat = LpInteger)\n",
    "x1 = LpVariable(\"WorkersLine1\", 0, cat = LpInteger)\n",
    "x2 = LpVariable(\"WorkersLine2\", 0, cat = LpInteger)\n",
    "\n",
    "#objective function\n",
    "prob += 1000*y1+2000*y2+500*x1+900*x2\n",
    "\n",
    "# The constraints \n",
    "prob += 20*x1 + 50*x2  >= 120, \"UnitsOfGlue1\"\n",
    "prob += 30*x1 + 35*x2 >= 150, \"UnitsOfGlue2\"\n",
    "prob += 40*x1 + 45*x2 >= 200, \"UnitsOfGlue3\"\n",
    "prob += 7*y1 - x1 >= 0, \"EmployeesOnLine1\"\n",
    "prob += 7*y2 - x2 >= 0, \"EmployeesOnLine2\"\n",
    "prob += x1 >= 0, \"\"\n",
    "prob += x2 >= 0, \"\""
   ]
  },
  {
   "cell_type": "code",
   "execution_count": 7,
   "metadata": {},
   "outputs": [],
   "source": [
    "# 2b) Solve the problem using PULP and report your code and output."
   ]
  },
  {
   "cell_type": "code",
   "execution_count": 8,
   "metadata": {},
   "outputs": [
    {
     "name": "stdout",
     "output_type": "stream",
     "text": [
      "Status: Optimal\n",
      "ProductionLine1 = 1.0\n",
      "ProductionLine2 = 0.0\n",
      "WorkersLine1 = 6.0\n",
      "WorkersLine2 = 0.0\n",
      "Total Cost of the Process =  4000.0\n"
     ]
    }
   ],
   "source": [
    "prob.writeLP(\"Process.lp\")\n",
    "\n",
    "\n",
    "# The problem is solved using PuLP's choice of Solver\n",
    "prob.solve()\n",
    "\n",
    "# The status of the solution is printed to the screen\n",
    "print(\"Status:\", LpStatus[prob.status])\n",
    "\n",
    "# Each of the variables is printed with it's resolved optimum value\n",
    "for v in prob.variables():\n",
    "    print(v.name, \"=\", v.varValue)\n",
    "    \n",
    "# The optimised objective function value is printed to the screen\n",
    "print(\"Total Cost of the Process = \", value(prob.objective))"
   ]
  },
  {
   "cell_type": "code",
   "execution_count": 9,
   "metadata": {},
   "outputs": [],
   "source": [
    "# 3) Determine how the monopolist can maximize profits."
   ]
  },
  {
   "cell_type": "code",
   "execution_count": 10,
   "metadata": {},
   "outputs": [
    {
     "name": "stdout",
     "output_type": "stream",
     "text": [
      "Initial SSE Objective: -124.0\n",
      "Final SSE Objective: -225.3749999999625\n",
      "Solution\n",
      "x1 = 8.499998538412603\n",
      "x2 = 8.749999027569034\n",
      "x3 = 17.24999756598498\n"
     ]
    }
   ],
   "source": [
    "import numpy as np\n",
    "from scipy.optimize import minimize\n",
    "\n",
    "# defining problem for minimization and constraints due to gretan than conditions\n",
    "\n",
    "def objective(x):\n",
    "    return (x[0]*(30-x[0])+x[1]*(50-2*x[1])-3*x[0]-5*x[1]-10*x[2])*-1\n",
    "\n",
    "def constraint1(x):\n",
    "    return (x[0]+x[1]-x[2])*-1\n",
    "\n",
    "def constraint2(x):\n",
    "    return (x[2]-17.25)*-1\n",
    "\n",
    "# initial guesses\n",
    "\n",
    "n = 3\n",
    "x0 = np.zeros(n)\n",
    "x0[0] = 1.0\n",
    "x0[1] = 4.0\n",
    "x0[2] = 5.0\n",
    "\n",
    "# show initial objective\n",
    "\n",
    "print('Initial SSE Objective: ' + str(objective(x0)))\n",
    "\n",
    "b = (0,17.25)\n",
    "bnds = (b, b, b)\n",
    "con1 = {'type': 'ineq', 'fun': constraint1}\n",
    "con2 = {'type': 'ineq', 'fun': constraint2}\n",
    "cons = ([con1,con2])\n",
    "\n",
    "solution = minimize(objective,x0,method='SLSQP',bounds=bnds,constraints=cons)\n",
    "x = solution.x\n",
    "\n",
    "# show final objective\n",
    "\n",
    "print('Final SSE Objective: ' + str(objective(x)))\n",
    "\n",
    "# print solution\n",
    "\n",
    "print('Solution')\n",
    "print('x1 = ' + str(x[0]))\n",
    "print('x2 = ' + str(x[1]))\n",
    "print('x3 = ' + str(x[2]))"
   ]
  },
  {
   "cell_type": "code",
   "execution_count": 11,
   "metadata": {},
   "outputs": [],
   "source": [
    "# 4) Q4 might be found in pdf named Q4."
   ]
  }
 ],
 "metadata": {
  "kernelspec": {
   "display_name": "Python 3",
   "language": "python",
   "name": "python3"
  },
  "language_info": {
   "codemirror_mode": {
    "name": "ipython",
    "version": 3
   },
   "file_extension": ".py",
   "mimetype": "text/x-python",
   "name": "python",
   "nbconvert_exporter": "python",
   "pygments_lexer": "ipython3",
   "version": "3.8.5"
  }
 },
 "nbformat": 4,
 "nbformat_minor": 4
}
